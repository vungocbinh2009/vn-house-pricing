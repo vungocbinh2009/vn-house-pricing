{
 "cells":[
  {
   "cell_type":"markdown",
   "source":[
    "# Xử lý dữ liệu\n",
    "- Thứ tự thực hiện xử lý dữ liệu:\n",
    "    - Nhập dữ liệu từ file\n",
    "    - Convert column\n",
    "    - Điền các giá trị NA, dựa vào kết quả phân tích\n",
    "    - Tạo biến giả (dummy variable)\n",
    "    - Scaling 1 vài dữ liệu và chuyển kiểu dữ liệu về float32\n",
    "    - Tách tập train, test\n",
    "    - Đưa vào auto-sklearn và AutoKeras để train, validation, sau đó test bằng test set.\n",
    "\n",
    "- Những việc cần làm: (trống)"
   ],
   "attachments":{
    
   },
   "metadata":{
    "datalore":{
     "type":"MD",
     "hide_input_from_viewers":false,
     "hide_output_from_viewers":false
    }
   }
  },
  {
   "cell_type":"code",
   "source":[
    "import warnings\n",
    "import os\n",
    "from pprint import pprint\n",
    "import numpy as np\n",
    "import pandas as pd\n",
    "import datetime \n",
    "import seaborn as sns\n",
    "import matplotlib.pyplot as plt\n",
    "import random\n",
    "\n",
    "import sklearn\n",
    "from sklearn.preprocessing import StandardScaler, OneHotEncoder\n",
    "from sklearn.compose import ColumnTransformer\n",
    "from sklearn.ensemble import RandomForestRegressor, ExtraTreesRegressor\n",
    "from sklearn.model_selection import train_test_split\n",
    "from sklearn.model_selection import RandomizedSearchCV\n",
    "from sklearn.model_selection import GridSearchCV\n",
    "from sklearn.pipeline import Pipeline\n",
    "import tensorflow as tf\n",
    "\n",
    "import autokeras as ak\n",
    "import autosklearn.regression\n",
    "\n",
    "import pickle\n",
    "\n",
    "random.seed(1000)\n",
    "# OK"
   ],
   "execution_count":1,
   "outputs":[
    {
     "name":"stderr",
     "text":[
      "Matplotlib is building the font cache; this may take a moment.\n"
     ],
     "output_type":"stream"
    }
   ],
   "metadata":{
    "datalore":{
     "type":"CODE",
     "hide_input_from_viewers":false,
     "hide_output_from_viewers":false
    }
   }
  },
  {
   "cell_type":"code",
   "source":[
    "# Ignoring future warnings and deprecation warnings so as not to make the notebook full of warnings\n",
    "warnings.filterwarnings(\"ignore\")\n",
    "# OK"
   ],
   "execution_count":2,
   "outputs":[
    
   ],
   "metadata":{
    "datalore":{
     "type":"CODE",
     "hide_input_from_viewers":false,
     "hide_output_from_viewers":false
    }
   }
  },
  {
   "cell_type":"code",
   "source":[
    "# Reading the first few lines of the dataset\n",
    "data = pd.read_csv(\"VN_housing_dataset.csv\")\n",
    "data.head()\n",
    "# OK"
   ],
   "execution_count":3,
   "outputs":[
    {
     "data":{
      "text\/html":[
       "<div>\n",
       "<style scoped>\n",
       "    .dataframe tbody tr th:only-of-type {\n",
       "        vertical-align: middle;\n",
       "    }\n",
       "\n",
       "    .dataframe tbody tr th {\n",
       "        vertical-align: top;\n",
       "    }\n",
       "\n",
       "    .dataframe thead th {\n",
       "        text-align: right;\n",
       "    }\n",
       "<\/style>\n",
       "<table border=\"1\" class=\"dataframe\">\n",
       "  <thead>\n",
       "    <tr style=\"text-align: right;\">\n",
       "      <th><\/th>\n",
       "      <th>Unnamed: 0<\/th>\n",
       "      <th>Unnamed: 0.1<\/th>\n",
       "      <th>Ngày<\/th>\n",
       "      <th>Địa chỉ<\/th>\n",
       "      <th>Quận<\/th>\n",
       "      <th>Huyện<\/th>\n",
       "      <th>Loại hình nhà ở<\/th>\n",
       "      <th>Giấy tờ pháp lý<\/th>\n",
       "      <th>Số tầng<\/th>\n",
       "      <th>Số phòng ngủ<\/th>\n",
       "      <th>Diện tích<\/th>\n",
       "      <th>Dài<\/th>\n",
       "      <th>Rộng<\/th>\n",
       "      <th>Giá\/m2<\/th>\n",
       "    <\/tr>\n",
       "  <\/thead>\n",
       "  <tbody>\n",
       "    <tr>\n",
       "      <th>0<\/th>\n",
       "      <td>0<\/td>\n",
       "      <td>0.0<\/td>\n",
       "      <td>2020-08-05<\/td>\n",
       "      <td>Đường Hoàng Quốc Việt, Phường Nghĩa Đô, Quận C...<\/td>\n",
       "      <td>Quận Cầu Giấy<\/td>\n",
       "      <td>Phường Nghĩa Đô<\/td>\n",
       "      <td>Nhà ngõ, hẻm<\/td>\n",
       "      <td>Đã có sổ<\/td>\n",
       "      <td>4<\/td>\n",
       "      <td>5 phòng<\/td>\n",
       "      <td>46 m2<\/td>\n",
       "      <td>NaN<\/td>\n",
       "      <td>NaN<\/td>\n",
       "      <td>86,96 triệu\/m2<\/td>\n",
       "    <\/tr>\n",
       "    <tr>\n",
       "      <th>1<\/th>\n",
       "      <td>1<\/td>\n",
       "      <td>1.0<\/td>\n",
       "      <td>2020-08-05<\/td>\n",
       "      <td>Đường Kim Giang, Phường Kim Giang, Quận Thanh ...<\/td>\n",
       "      <td>Quận Thanh Xuân<\/td>\n",
       "      <td>Phường Kim Giang<\/td>\n",
       "      <td>Nhà mặt phố, mặt tiền<\/td>\n",
       "      <td>NaN<\/td>\n",
       "      <td>NaN<\/td>\n",
       "      <td>3 phòng<\/td>\n",
       "      <td>37 m2<\/td>\n",
       "      <td>NaN<\/td>\n",
       "      <td>NaN<\/td>\n",
       "      <td>116,22 triệu\/m2<\/td>\n",
       "    <\/tr>\n",
       "    <tr>\n",
       "      <th>2<\/th>\n",
       "      <td>2<\/td>\n",
       "      <td>2.0<\/td>\n",
       "      <td>2020-08-05<\/td>\n",
       "      <td>phố minh khai, Phường Minh Khai, Quận Hai Bà T...<\/td>\n",
       "      <td>Quận Hai Bà Trưng<\/td>\n",
       "      <td>Phường Minh Khai<\/td>\n",
       "      <td>Nhà ngõ, hẻm<\/td>\n",
       "      <td>Đã có sổ<\/td>\n",
       "      <td>4<\/td>\n",
       "      <td>4 phòng<\/td>\n",
       "      <td>40 m2<\/td>\n",
       "      <td>10 m<\/td>\n",
       "      <td>4 m<\/td>\n",
       "      <td>65 triệu\/m2<\/td>\n",
       "    <\/tr>\n",
       "    <tr>\n",
       "      <th>3<\/th>\n",
       "      <td>3<\/td>\n",
       "      <td>3.0<\/td>\n",
       "      <td>2020-08-05<\/td>\n",
       "      <td>Đường Võng Thị, Phường Thụy Khuê, Quận Tây Hồ,...<\/td>\n",
       "      <td>Quận Tây Hồ<\/td>\n",
       "      <td>Phường Thụy Khuê<\/td>\n",
       "      <td>Nhà ngõ, hẻm<\/td>\n",
       "      <td>Đã có sổ<\/td>\n",
       "      <td>NaN<\/td>\n",
       "      <td>6 phòng<\/td>\n",
       "      <td>51 m2<\/td>\n",
       "      <td>12.75 m<\/td>\n",
       "      <td>4 m<\/td>\n",
       "      <td>100 triệu\/m2<\/td>\n",
       "    <\/tr>\n",
       "    <tr>\n",
       "      <th>4<\/th>\n",
       "      <td>4<\/td>\n",
       "      <td>4.0<\/td>\n",
       "      <td>2020-08-05<\/td>\n",
       "      <td>Đường Kim Giang, Phường Kim Giang, Quận Thanh ...<\/td>\n",
       "      <td>Quận Thanh Xuân<\/td>\n",
       "      <td>Phường Kim Giang<\/td>\n",
       "      <td>Nhà ngõ, hẻm<\/td>\n",
       "      <td>NaN<\/td>\n",
       "      <td>NaN<\/td>\n",
       "      <td>4 phòng<\/td>\n",
       "      <td>36 m2<\/td>\n",
       "      <td>9 m<\/td>\n",
       "      <td>4 m<\/td>\n",
       "      <td>86,11 triệu\/m2<\/td>\n",
       "    <\/tr>\n",
       "  <\/tbody>\n",
       "<\/table>\n",
       "<\/div>"
      ]
     },
     "metadata":{
      
     },
     "output_type":"display_data"
    }
   ],
   "metadata":{
    "datalore":{
     "type":"CODE",
     "hide_input_from_viewers":false,
     "hide_output_from_viewers":false
    }
   }
  },
  {
   "cell_type":"code",
   "source":[
    "# The length of the dataset before cleaning and removing outliers\n",
    "print(\"The initial length of the dataset is\", str(len(data)), \"rows.\")\n",
    "data.isna().sum()\n",
    "# OK"
   ],
   "execution_count":4,
   "outputs":[
    {
     "name":"stdout",
     "text":[
      "The initial length of the dataset is 82484 rows.\n"
     ],
     "output_type":"stream"
    },
    {
     "data":{
      "text\/html":[
       
      ]
     },
     "metadata":{
      
     },
     "output_type":"display_data"
    }
   ],
   "metadata":{
    "datalore":{
     "type":"CODE",
     "hide_input_from_viewers":false,
     "hide_output_from_viewers":false
    }
   }
  },
  {
   "cell_type":"code",
   "source":[
    "# Đặt tên lại các cột\n",
    "df_renamed = data.rename(columns = {\"Ngày\":\"date\", \"Địa chỉ\":\"address\", \"Quận\":\"district\", \n",
    "                                  \"Huyện\":\"ward\", \"Loại hình nhà ở\":\"type_of_housing\",\n",
    "                                 \"Giấy tờ pháp lý\":\"legal_paper\", \"Số tầng\":\"num_floors\",\n",
    "                                 \"Số phòng ngủ\":\"num_bed_rooms\", \"Diện tích\":\"squared_meter_area\",\n",
    "                                 \"Dài\":\"length_meter\", \"Rộng\":\"width_meter\", \"Giá\/m2\":\"price\"})\n",
    "\n",
    "df_renamed = df_renamed.where(pd.notnull(df_renamed), \"NaN\")\n",
    "\n",
    "# Remove houses with \"10 plus\" floors and bed rooms, since this cannot be exactly quantified\n",
    "df_renamed = df_renamed[df_renamed['num_floors'] != 'Nhiều hơn 10']\n",
    "df_renamed = df_renamed[df_renamed['num_bed_rooms'] != 'nhiều hơn 10 phòng']\n",
    "\n",
    "# Clean columns and convert numerical columns to float type\n",
    "df_renamed['num_floors'] = df_renamed['num_floors'].str.strip().astype(float)\n",
    "df_renamed['num_bed_rooms'] = df_renamed['num_bed_rooms'].str.replace(' phòng','').str.strip().astype(float)\n",
    "df_renamed['squared_meter_area'] = df_renamed['squared_meter_area'].str.replace(' m2','').str.strip().astype(float)\n",
    "df_renamed['length_meter'] = df_renamed['length_meter'].str.replace(' m','').str.strip().astype(float)\n",
    "df_renamed['width_meter'] = df_renamed['width_meter'].str.replace(' m','').str.strip().astype(float)\n",
    "\n",
    "# Clean and convert all prices to million\/m2 instead of VND\/m2 or billion\/m2\n",
    "df_renamed.loc[df_renamed['price'].str.contains(' tỷ\/m2', na=False), 'price'] = df_renamed.loc[df_renamed['price'].str.contains(' tỷ\/m2', na=False), 'price'].str.replace(' tỷ\/m2','').str.replace('.','').str.replace(',','.').astype(float) * 1000\n",
    "df_renamed.loc[df_renamed['price'].str.contains(' triệu\/m2', na=False), 'price'] = df_renamed.loc[df_renamed['price'].str.contains(' triệu\/m2', na=False), 'price'].str.replace(' triệu\/m2','').str.replace('.','').str.replace(',','.').astype(float)\n",
    "df_renamed.loc[df_renamed['price'].str.contains(' đ\/m2', na=False), 'price'] = df_renamed.loc[df_renamed['price'].str.contains(' đ\/m2', na=False), 'price'].str.replace(' đ\/m2','').str.replace('.','').str.replace(',','.').astype(float) * 0.000001\n",
    "\n",
    "df_renamed.head()\n",
    "df_renamed.to_csv(\"full_data.csv\", index = False)"
   ],
   "execution_count":5,
   "outputs":[
    
   ],
   "metadata":{
    "datalore":{
     "type":"CODE",
     "hide_input_from_viewers":false,
     "hide_output_from_viewers":false
    }
   }
  },
  {
   "cell_type":"code",
   "source":[
    "def filling_na(df):\n",
    "  for index, row in df.iterrows():\n",
    "    if pd.isna(row[\"num_floors\"]):\n",
    "      df.at[index, \"num_floors\"] = random.choice([4, 5])\n",
    "\n",
    "    if pd.isna(row[\"squared_meter_area\"]):\n",
    "      continue\n",
    "    elif not pd.isna(row[\"length_meter\"]) and pd.isna(row[\"width_meter\"]):\n",
    "      df.at[index, \"width_meter\"] = row[\"squared_meter_area\"] \/ row[\"length_meter\"]\n",
    "    elif pd.isna(row[\"length_meter\"]) and not pd.isna(row[\"width_meter\"]):\n",
    "      df.at[index, \"length_meter\"] = row[\"squared_meter_area\"] \/ row[\"width_meter\"]\n",
    "    else:\n",
    "      continue\n",
    "\n",
    "  df = df.drop(\"Unnamed: 0\", axis = 1)\n",
    "  df = df.drop(\"Unnamed: 0.1\", axis = 1)\n",
    "  df = df.drop([\"date\", \"address\"], axis = 1)\n",
    "  # Xóa bỏ một số giá trị bất thường\n",
    "  df.drop(df[df['price'] > 400].index, inplace = True)  \n",
    "  df.drop(df[df['price'] < 1].index, inplace = True)\n",
    "  df.drop(df[df['num_floors'] > 10].index, inplace = True)\n",
    "  df.drop(df[abs(df['squared_meter_area'] - df[\"length_meter\"]*df[\"width_meter\"]) > 50].index, inplace = True)\n",
    "  df.drop(df[df[\"legal_paper\"] == \"NaN\"].index, inplace=True)\n",
    "  # Loại bỏ một số cột.\n",
    "  df = df[[\"district\", \"ward\", \"type_of_housing\", \"legal_paper\", \"num_floors\", \"num_bed_rooms\", \"squared_meter_area\", \"price\"]]\n",
    "\n",
    "\n",
    "  print(df.isna().sum())\n",
    "  df = df.dropna()\n",
    "  df = df.reset_index()\n",
    "  return df\n",
    "    \n",
    "df_renamed = filling_na(df_renamed)\n",
    "X_train, X_test, y_train, y_test = train_test_split(df_renamed.drop(['price'], axis=1), df_renamed[\"price\"], test_size=0.2, random_state=2032)\n",
    "X_train.assign(price=y_train).to_csv(\"train_data.csv\", index=False)\n",
    "X_test.assign(price=y_test).to_csv(\"test_data.csv\", index=False)\n",
    "\n",
    "# The length of the dataset after dropping null values\n",
    "\n",
    "print(\"The length of the dataset after dropping null values is\", str(len(df_renamed)), \"rows.\")\n",
    "df_renamed.head()"
   ],
   "execution_count":6,
   "outputs":[
    {
     "name":"stdout",
     "text":[
      "district               0\n",
      "ward                   0\n",
      "type_of_housing        0\n",
      "legal_paper            0\n",
      "num_floors             0\n",
      "num_bed_rooms         31\n",
      "squared_meter_area     0\n",
      "price                  0\n",
      "dtype: int64\n",
      "The length of the dataset after dropping null values is 51179 rows.\n"
     ],
     "output_type":"stream"
    },
    {
     "data":{
      "text\/html":[
       "<div>\n",
       "<style scoped>\n",
       "    .dataframe tbody tr th:only-of-type {\n",
       "        vertical-align: middle;\n",
       "    }\n",
       "\n",
       "    .dataframe tbody tr th {\n",
       "        vertical-align: top;\n",
       "    }\n",
       "\n",
       "    .dataframe thead th {\n",
       "        text-align: right;\n",
       "    }\n",
       "<\/style>\n",
       "<table border=\"1\" class=\"dataframe\">\n",
       "  <thead>\n",
       "    <tr style=\"text-align: right;\">\n",
       "      <th><\/th>\n",
       "      <th>index<\/th>\n",
       "      <th>district<\/th>\n",
       "      <th>ward<\/th>\n",
       "      <th>type_of_housing<\/th>\n",
       "      <th>legal_paper<\/th>\n",
       "      <th>num_floors<\/th>\n",
       "      <th>num_bed_rooms<\/th>\n",
       "      <th>squared_meter_area<\/th>\n",
       "      <th>price<\/th>\n",
       "    <\/tr>\n",
       "  <\/thead>\n",
       "  <tbody>\n",
       "    <tr>\n",
       "      <th>0<\/th>\n",
       "      <td>0<\/td>\n",
       "      <td>Quận Cầu Giấy<\/td>\n",
       "      <td>Phường Nghĩa Đô<\/td>\n",
       "      <td>Nhà ngõ, hẻm<\/td>\n",
       "      <td>Đã có sổ<\/td>\n",
       "      <td>4.0<\/td>\n",
       "      <td>5.0<\/td>\n",
       "      <td>46.0<\/td>\n",
       "      <td>86.96<\/td>\n",
       "    <\/tr>\n",
       "    <tr>\n",
       "      <th>1<\/th>\n",
       "      <td>2<\/td>\n",
       "      <td>Quận Hai Bà Trưng<\/td>\n",
       "      <td>Phường Minh Khai<\/td>\n",
       "      <td>Nhà ngõ, hẻm<\/td>\n",
       "      <td>Đã có sổ<\/td>\n",
       "      <td>4.0<\/td>\n",
       "      <td>4.0<\/td>\n",
       "      <td>40.0<\/td>\n",
       "      <td>65.0<\/td>\n",
       "    <\/tr>\n",
       "    <tr>\n",
       "      <th>2<\/th>\n",
       "      <td>3<\/td>\n",
       "      <td>Quận Tây Hồ<\/td>\n",
       "      <td>Phường Thụy Khuê<\/td>\n",
       "      <td>Nhà ngõ, hẻm<\/td>\n",
       "      <td>Đã có sổ<\/td>\n",
       "      <td>4.0<\/td>\n",
       "      <td>6.0<\/td>\n",
       "      <td>51.0<\/td>\n",
       "      <td>100.0<\/td>\n",
       "    <\/tr>\n",
       "    <tr>\n",
       "      <th>3<\/th>\n",
       "      <td>7<\/td>\n",
       "      <td>Quận Hai Bà Trưng<\/td>\n",
       "      <td>Phường Đống Mác<\/td>\n",
       "      <td>Nhà mặt phố, mặt tiền<\/td>\n",
       "      <td>Đã có sổ<\/td>\n",
       "      <td>6.0<\/td>\n",
       "      <td>5.0<\/td>\n",
       "      <td>32.0<\/td>\n",
       "      <td>184.38<\/td>\n",
       "    <\/tr>\n",
       "    <tr>\n",
       "      <th>4<\/th>\n",
       "      <td>9<\/td>\n",
       "      <td>Quận Hà Đông<\/td>\n",
       "      <td>Phường Văn Quán<\/td>\n",
       "      <td>Nhà ngõ, hẻm<\/td>\n",
       "      <td>Đã có sổ<\/td>\n",
       "      <td>4.0<\/td>\n",
       "      <td>3.0<\/td>\n",
       "      <td>41.0<\/td>\n",
       "      <td>64.63<\/td>\n",
       "    <\/tr>\n",
       "  <\/tbody>\n",
       "<\/table>\n",
       "<\/div>"
      ]
     },
     "metadata":{
      
     },
     "output_type":"display_data"
    }
   ],
   "metadata":{
    "datalore":{
     "type":"CODE",
     "hide_input_from_viewers":false,
     "hide_output_from_viewers":false
    }
   }
  },
  {
   "cell_type":"code",
   "source":[
    "ohe = OneHotEncoder(handle_unknown='ignore')\n",
    "ohe.fit(X_train)\n",
    "# Create dummies for categorical columns\n",
    "preprocessor = ColumnTransformer([\n",
    "    (\"ohe\", ohe, [\"district\", \"ward\", \"type_of_housing\", \"legal_paper\"]),\n",
    "])\n",
    "preprocessor.fit(X_train)\n",
    "\n",
    "pipe = Pipeline([\n",
    "    (\"preprocess\", preprocessor)\n",
    "])\n",
    "\n",
    "X_train = pipe.transform(X_train)\n",
    "X_test = pipe.transform(X_test)\n",
    "\n",
    "X_train = X_train.astype(\"float32\")\n",
    "y_train = y_train.astype(\"float32\")\n",
    "X_test = X_test.astype(\"float32\")\n",
    "y_test = y_test.astype(\"float32\")\n",
    "\n",
    "# Sanity check to see if all train and test arrays have correct dimensions\n",
    "if X_train.shape[0] == y_train.shape[0] and X_test.shape[0] == y_test.shape[0]:\n",
    "    print(\"All train and test sets have correct dimensions.\")"
   ],
   "execution_count":7,
   "outputs":[
    {
     "name":"stdout",
     "text":[
      "All train and test sets have correct dimensions.\n"
     ],
     "output_type":"stream"
    }
   ],
   "metadata":{
    "datalore":{
     "type":"CODE",
     "hide_input_from_viewers":false,
     "hide_output_from_viewers":false
    }
   }
  },
  {
   "cell_type":"markdown",
   "source":[
    "# Tìm mô hình phù hợp bằng auto-sklearn"
   ],
   "attachments":{
    
   },
   "metadata":{
    "datalore":{
     "type":"MD",
     "hide_input_from_viewers":false,
     "hide_output_from_viewers":false
    }
   }
  },
  {
   "cell_type":"code",
   "source":[
    "'''\n",
    "automl = autosklearn.regression.AutoSklearnRegressor(\n",
    "    time_left_for_this_task=7200,\n",
    "    per_run_time_limit=900,\n",
    "    tmp_folder='autosklearn_tmp'\n",
    ")\n",
    "\n",
    "automl.fit(X_train, y_train)\n",
    "pprint(automl.show_models(), indent=4)\n",
    "\n",
    "# Lưu lại mô hình tốt nhất\n",
    "x = automl.show_models()\n",
    "#results = {\"ensemble\": x}\n",
    "results = automl # the classifier\/regressor itself\n",
    "pickle.dump(results, open('auto_sklearn.pickle','wb'))\n",
    "\n",
    "train_predictions = automl.predict(X_train)\n",
    "print(\"Train RMSE score:\", sklearn.metrics.mean_squared_error(y_train, train_predictions, squared=False))\n",
    "test_predictions = automl.predict(X_test)\n",
    "print(\"Test RMSE score:\", sklearn.metrics.mean_squared_error(y_test, test_predictions, squared=False))\n",
    "print(pd.Series(y_test - test_predictions).describe())\n",
    "sns.histplot(y_test - test_predictions)\n",
    "'''"
   ],
   "execution_count":8,
   "outputs":[
    {
     "data":{
      "text\/plain":[
       "'\\nautoml = autosklearn.regression.AutoSklearnRegressor(\\n    time_left_for_this_task=7200,\\n    per_run_time_limit=900,\\n    tmp_folder=\\'autosklearn_tmp\\'\\n)\\n\\nautoml.fit(X_train, y_train)\\npprint(automl.show_models(), indent=4)\\n\\n# Lưu lại mô hình tốt nhất\\nx = automl.show_models()\\n#results = {\"ensemble\": x}\\nresults = automl # the classifier\/regressor itself\\npickle.dump(results, open(\\'auto_sklearn.pickle\\',\\'wb\\'))\\n\\ntrain_predictions = automl.predict(X_train)\\nprint(\"Train RMSE score:\", sklearn.metrics.mean_squared_error(y_train, train_predictions, squared=False))\\ntest_predictions = automl.predict(X_test)\\nprint(\"Test RMSE score:\", sklearn.metrics.mean_squared_error(y_test, test_predictions, squared=False))\\nprint(pd.Series(y_test - test_predictions).describe())\\nsns.histplot(y_test - test_predictions)\\n'"
      ]
     },
     "metadata":{
      
     },
     "output_type":"display_data"
    }
   ],
   "metadata":{
    "datalore":{
     "type":"CODE",
     "hide_input_from_viewers":false,
     "hide_output_from_viewers":false
    }
   }
  },
  {
   "cell_type":"code",
   "source":[
    "# Build model tốt nhất bằng sklearn\n",
    "from sklearn.ensemble import RandomForestRegressor, ExtraTreesRegressor\n",
    "\n",
    "model = RandomForestRegressor(max_features=0.7517792740390704, min_samples_leaf=6,\n",
    "                      n_estimators=512, n_jobs=1, random_state=1,\n",
    "                      warm_start=True)\n",
    "model.fit(X_train, y_train)\n",
    "\n",
    "\n",
    "with open('final-model-6.pickle','wb') as f:\n",
    "    pickle.dump(model,f)\n",
    "\n",
    "# load\n",
    "with open('final-model-6.pickle', 'rb') as f:\n",
    "    model_2 = pickle.load(f)\n",
    "\n",
    "print(model_2.predict(X_test))\n",
    "\n",
    "\n",
    "test_predictions = model_2.predict(X_test)\n",
    "print(test_predictions)\n",
    "print(\"Accuracy for the final model is:\", str(sklearn.metrics.mean_absolute_percentage_error(y_test, test_predictions)))\n",
    "train_predictions = model_2.predict(X_train)\n",
    "print(\"Train RMSE score:\", sklearn.metrics.mean_squared_error(y_train, train_predictions, squared=False))\n",
    "print(\"Test RMSE score:\", sklearn.metrics.mean_squared_error(y_test, test_predictions, squared=False))\n",
    "print(\"Max error:\", sklearn.metrics.max_error(y_test, test_predictions))\n",
    "sns.histplot(y_test - test_predictions)"
   ],
   "execution_count":9,
   "outputs":[
    {
     "name":"stdout",
     "text":[
      "[118.70626462  82.82829402  77.78881549 ... 106.10464541  85.1825939\n",
      "  91.3773733 ]\n",
      "[118.70626462  82.82829402  77.78881549 ... 106.10464541  85.1825939\n",
      "  91.3773733 ]\n",
      "Accuracy for the final model is: 0.37624955284929434\n",
      "Train RMSE score: 36.9743662467299\n",
      "Test RMSE score: 36.86801892269624\n",
      "Max error: 274.3663423289595\n"
     ],
     "output_type":"stream"
    },
    {
     "data":{
      "text\/plain":[
       "<AxesSubplot:xlabel='price', ylabel='Count'>"
      ],
      "image\/png":"[encoded data removed]"
     },
     "metadata":{
      "image\/png":{
       
      }
     },
     "output_type":"display_data"
    }
   ],
   "metadata":{
    "datalore":{
     "type":"CODE",
     "hide_input_from_viewers":false,
     "hide_output_from_viewers":false
    }
   }
  },
  {
   "cell_type":"markdown",
   "source":[
    "Kết quả train model\n",
    "- Model train lần 1: (đầy đủ 6 model của auto-sklearn)\n",
    "    - Train RMSE score: 35907.58159648503\n",
    "    - Test RMSE score: 59333.95487043406\n",
    "    - Accuracy score: 38.4495479475675\n",
    "\n",
    "- Model train lần 2: (Chỉ có 1 model tốt nhất)\n",
    "    - Accuracy score: 45.90740139154685\n",
    "\n",
    "- Model train lần 3: (Thay đổi điều kiện loại bỏ giá trị bất thường)\n",
    "    - Accuracy for the auto-sklearn model is: 64.02317728894509\n",
    "    - Train RMSE score: 30825.360551413673\n",
    "    - Test RMSE score: 23015.72515244434\n",
    "\n",
    "- Model train lần 4: (Thay đổi điều kiện loại bỏ giá trị bất thường)\n",
    "    - Accuracy for the auto-sklearn model is: 58.67163442853855\n",
    "    - Train RMSE score: 4834.075482152234\n",
    "    - Test RMSE score: 5070.393852307886\n",
    "\n",
    "- Model train lần thứ 5: (final-model-2) - thay đổi các điều kiện loại bỏ giá trị bất thường.\n",
    "    - Accuracy for the auto-sklearn model is: 52.97973446439696\n",
    "    - Train RMSE score: 4253.366269887903\n",
    "    - Test RMSE score: 4681.643697988176\n",
    "\n",
    "- Model train lần thứ 6: Chỉ giữ lại 4 cột đầu - LinearSVR.\n",
    "    - Accuracy for the auto-sklearn model is: 59.833783012518715\n",
    "    - Train RMSE score: 4187.313999173774\n",
    "    - Test RMSE score: 4217.688233321773\n",
    "- Model train lần thứ 7: Chỉ giữ lại 4 cột đầu + Loại bỏ giấy tờ nan - RandomForestRegression:\n",
    "    - Accuracy for the auto-sklearn model is: 63.65526714087563\n",
    "    - Train RMSE score: 62.744871055503886\n",
    "    - Test RMSE score: 69.61038789335248\n",
    "- Model train lần thứ 8: Chỉ giữ lại 4 cột đầu + Loại bỏ giấy tờ nan - RandomForestRegression:\n",
    "    - Accuracy for the auto-sklearn model is: 63.43588311130838\n",
    "    - Train RMSE score: 63.19085095454653\n",
    "    - Test RMSE score: 69.48621834561445\n",
    "- Model train lần thứ 9: Điều chỉnh giá đất tối đa: 1 tỷ\/m2 (thay vì 3 tỷ\/m2)\n",
    "    - Accuracy for the auto-sklearn model is: 59.69062492887485\n",
    "    - Train RMSE score: 50.977970779966164\n",
    "    - Test RMSE score: 49.37985717345978\n",
    "- Model train lần thứ 10: Giữ lại tất cả các cột: (Kết quả không tốt hơn)"
   ],
   "attachments":{
    
   },
   "metadata":{
    "datalore":{
     "type":"MD",
     "hide_input_from_viewers":false,
     "hide_output_from_viewers":false
    }
   }
  },
  {
   "cell_type":"code",
   "source":[
    "sns.histplot(y_train)\n",
    "# sns.histplot(np.log(y_train))\n",
    "# sns.histplot(y_train - train_predictions)\n",
    "# sns.histplot(y_test - test_predictions)\n",
    "# pd.Series(y_train - train_predictions).describe()\n",
    "# pd.Series(y_test - test_predictions).describe()"
   ],
   "execution_count":10,
   "outputs":[
    {
     "data":{
      "text\/plain":[
       "<AxesSubplot:xlabel='price', ylabel='Count'>"
      ],
      "image\/png":"[encoded data removed]"
     },
     "metadata":{
      "image\/png":{
       
      }
     },
     "output_type":"display_data"
    }
   ],
   "metadata":{
    "datalore":{
     "type":"CODE",
     "hide_input_from_viewers":false,
     "hide_output_from_viewers":false
    }
   }
  }
 ],
 "metadata":{
  "datalore":{
   "version":1,
   "computation_mode":"JUPYTER",
   "package_manager":"pip",
   "base_environment":"default",
   "packages":[
    {
     "name":"auto-sklearn",
     "version":"0.14.6",
     "source":"PIP"
    },
    {
     "name":"autokeras",
     "version":"1.0.18",
     "source":"PIP"
    }
   ]
  }
 },
 "nbformat":4,
 "nbformat_minor":4
}